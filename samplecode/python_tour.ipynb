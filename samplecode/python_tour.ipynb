{
 "cells": [
  {
   "cell_type": "markdown",
   "metadata": {},
   "source": [
    "# MCS 275 Python tour - Spring 2021 - David Dumas\n",
    "\n",
    "This is a quick tour of Python syntax and features that students can use as a reference.  It isn't completely systematic, and it doesn't include everything, but is meant to provide a way to refresh your memory of some of the most important Python features in preparation for the new material in MCS 275.  The optional course texts or the slides from [MCS 260](https://dumas.io/teaching/2020/fall/mcs260/index.html) provide more detailed information.\n"
   ]
  },
  {
   "cell_type": "markdown",
   "metadata": {},
   "source": [
    "# Contents\n",
    "\n",
    "* [Scripts vs REPL vs notebooks](#Scripts-vs-REPL-vs-notebooks)\n",
    "* [Variables, assignment, basic types](#Variables,-assignment,-basic-types)\n",
    "* [Arithmetic](#Arithmetic)\n",
    "* [Operations on strings](#Operations-on-strings)\n",
    "* [Boolean expressions and logic](#Boolean-expressions-and-logic)\n",
    "* [Numeric conversions](#Numeric-conversions)\n",
    "* [String conversions](#String-conversions)\n",
    "* [Useful features of strings](#Useful-features-of-strings)\n",
    "* [Printing stuff](#Printing-stuff)\n",
    "* [List basics](#List-basics)\n",
    "* [List slices](#List-slices)\n",
    "* [List conversion and membership testing](#List-conversion-and-membership-testing)\n",
    "* [Other useful list features](#Other-useful-list-features)\n",
    "* [String indexing](#String-indexing)\n",
    "* [Dictionaries](#Dictionaries)\n",
    "* [Conditionals (if-else-elif)](#Conditionals-(if-else-elif))\n",
    "* [Loops](#Loops)\n",
    "* [Files](#Files)"
   ]
  },
  {
   "cell_type": "markdown",
   "metadata": {},
   "source": [
    "## Scripts vs REPL vs notebooks"
   ]
  },
  {
   "cell_type": "markdown",
   "metadata": {},
   "source": [
    "You can run the python interpreter using the interpreter name, usually `python` or `python3`.  It waits for commands to run, and prints the result of each one.  This is the REPL.\n",
    "\n",
    "You can run a whole file of Python code using `python FILENAME.py` or `python3 FILENAME.py` (depending on the interpreter name).\n",
    "\n",
    "This document is a notebook, which is more like the REPL.  Pieces of code appear in *cells*, and the value of the last expression in the cell is printed in the output.  We'll talk about notebooks more in a future MCS 275 lecture.  At the beginning, you can just treat this as a nicely formatted mix of text, code, and output."
   ]
  },
  {
   "cell_type": "markdown",
   "metadata": {},
   "source": [
    "## Variables, assignment, basic types"
   ]
  },
  {
   "cell_type": "code",
   "execution_count": 1,
   "metadata": {},
   "outputs": [
    {
     "data": {
      "text/plain": [
       "5"
      ]
     },
     "execution_count": 1,
     "metadata": {},
     "output_type": "execute_result"
    }
   ],
   "source": [
    "# Create a variable by assignment.  No separate declaration needed.\n",
    "x = 5\n",
    "\n",
    "# What's the value of x now?\n",
    "x"
   ]
  },
  {
   "cell_type": "code",
   "execution_count": 2,
   "metadata": {},
   "outputs": [],
   "source": [
    "# Change the value of x a few times; it can change types at any time\n",
    "x = 10 # an integer\n",
    "x = 3.25 # a float\n",
    "x = True # a boolean\n",
    "x = None # None (the null value)\n",
    "x = \"hello\" # a string"
   ]
  },
  {
   "cell_type": "code",
   "execution_count": 3,
   "metadata": {},
   "outputs": [
    {
     "data": {
      "text/plain": [
       "9"
      ]
     },
     "execution_count": 3,
     "metadata": {},
     "output_type": "execute_result"
    }
   ],
   "source": [
    "# Some integers\n",
    "1234\n",
    "1_000_000 # one million (_ is a separator that is ignored, like a comma)\n",
    "0x1e # hexadecimal\n",
    "0b1001 # binary\n",
    "# only the last value in a cell appears in the output, so you should see 9 = 0b1001 below"
   ]
  },
  {
   "cell_type": "code",
   "execution_count": 4,
   "metadata": {},
   "outputs": [
    {
     "data": {
      "text/plain": [
       "3000000.0"
      ]
     },
     "execution_count": 4,
     "metadata": {},
     "output_type": "execute_result"
    }
   ],
   "source": [
    "# Some floats\n",
    "0.01\n",
    "-1.3\n",
    "3e6 # three million.  \"e\" is for exponent, means 3 * 10**6"
   ]
  },
  {
   "cell_type": "code",
   "execution_count": 5,
   "metadata": {},
   "outputs": [
    {
     "data": {
      "text/plain": [
       "False"
      ]
     },
     "execution_count": 5,
     "metadata": {},
     "output_type": "execute_result"
    }
   ],
   "source": [
    "# The only possible values of a boolean.  Note capitalization\n",
    "True\n",
    "False"
   ]
  },
  {
   "cell_type": "code",
   "execution_count": 6,
   "metadata": {},
   "outputs": [],
   "source": [
    "# The only value of type `nonetype` is None.  It is used as a \"null\", a signal of the absence of something.\n",
    "# Displaying a None in the REPL doesn't display anything at all, so this cell has no output\n",
    "None"
   ]
  },
  {
   "cell_type": "code",
   "execution_count": 7,
   "metadata": {},
   "outputs": [
    {
     "data": {
      "text/plain": [
       "\"It was time for MCS 275 lecture\\nbut I didn't zoom installed on my\\nlaptop.\""
      ]
     },
     "execution_count": 7,
     "metadata": {},
     "output_type": "execute_result"
    }
   ],
   "source": [
    "# Some strings.  Can use \" or ' for single-line strings, or \"\"\" or ''' for multi-line strings\n",
    "\"2021\"  # This isn't a number!  It is in quotes, so it is a string\n",
    "\"It was the best of times\"\n",
    "'It was the worst of times'\n",
    "\"\"\"It was time for MCS 275 lecture\n",
    "but I didn't zoom installed on my\n",
    "laptop.\"\"\""
   ]
  },
  {
   "cell_type": "markdown",
   "metadata": {},
   "source": [
    "## Arithmetic"
   ]
  },
  {
   "cell_type": "code",
   "execution_count": 8,
   "metadata": {},
   "outputs": [
    {
     "data": {
      "text/plain": [
       "4"
      ]
     },
     "execution_count": 8,
     "metadata": {},
     "output_type": "execute_result"
    }
   ],
   "source": [
    "# addition\n",
    "2+2"
   ]
  },
  {
   "cell_type": "code",
   "execution_count": 9,
   "metadata": {},
   "outputs": [
    {
     "data": {
      "text/plain": [
       "56"
      ]
     },
     "execution_count": 9,
     "metadata": {},
     "output_type": "execute_result"
    }
   ],
   "source": [
    "# multiplication\n",
    "7*8"
   ]
  },
  {
   "cell_type": "code",
   "execution_count": 10,
   "metadata": {},
   "outputs": [
    {
     "data": {
      "text/plain": [
       "3.0"
      ]
     },
     "execution_count": 10,
     "metadata": {},
     "output_type": "execute_result"
    }
   ],
   "source": [
    "# division yields a float, even if the result is an integer\n",
    "6/2"
   ]
  },
  {
   "cell_type": "code",
   "execution_count": 11,
   "metadata": {},
   "outputs": [
    {
     "data": {
      "text/plain": [
       "32"
      ]
     },
     "execution_count": 11,
     "metadata": {},
     "output_type": "execute_result"
    }
   ],
   "source": [
    "# exponentiation is **, and not ^ which is used for this in some other languages\n",
    "2**5"
   ]
  },
  {
   "cell_type": "markdown",
   "metadata": {},
   "source": [
    "The order of operations follows the mnemonic PEMDAS:\n",
    "* Parentheses\n",
    "* Exponents\n",
    "* Multiplication and division (left to right)\n",
    "* Addition and subtraction (left to right)"
   ]
  },
  {
   "cell_type": "code",
   "execution_count": 12,
   "metadata": {},
   "outputs": [
    {
     "data": {
      "text/plain": [
       "1"
      ]
     },
     "execution_count": 12,
     "metadata": {},
     "output_type": "execute_result"
    }
   ],
   "source": [
    "# modulus (remainder upon division) is %\n",
    "1271845 % 7  # This number is one more than a multiple of 7"
   ]
  },
  {
   "cell_type": "markdown",
   "metadata": {},
   "source": [
    "## Operations on strings"
   ]
  },
  {
   "cell_type": "code",
   "execution_count": 13,
   "metadata": {},
   "outputs": [
    {
     "data": {
      "text/plain": [
       "'hello world'"
      ]
     },
     "execution_count": 13,
     "metadata": {},
     "output_type": "execute_result"
    }
   ],
   "source": [
    "# Join two strings\n",
    "\"hello\" + \" world\""
   ]
  },
  {
   "cell_type": "code",
   "execution_count": 14,
   "metadata": {},
   "outputs": [
    {
     "data": {
      "text/plain": [
       "'noooooooooooooooooooooooooooooo'"
      ]
     },
     "execution_count": 14,
     "metadata": {},
     "output_type": "execute_result"
    }
   ],
   "source": [
    "# Repeat a string many times using multiplication\n",
    "\"n\" + ( \"o\"*30 )"
   ]
  },
  {
   "cell_type": "markdown",
   "metadata": {},
   "source": [
    "## Boolean expressions and logic"
   ]
  },
  {
   "cell_type": "code",
   "execution_count": 15,
   "metadata": {},
   "outputs": [
    {
     "data": {
      "text/plain": [
       "True"
      ]
     },
     "execution_count": 15,
     "metadata": {},
     "output_type": "execute_result"
    }
   ],
   "source": [
    "# Compare numbers with <, >, =, <=, >=\n",
    "1 < 5"
   ]
  },
  {
   "cell_type": "code",
   "execution_count": 16,
   "metadata": {},
   "outputs": [
    {
     "data": {
      "text/plain": [
       "True"
      ]
     },
     "execution_count": 16,
     "metadata": {},
     "output_type": "execute_result"
    }
   ],
   "source": [
    "27 >= 27"
   ]
  },
  {
   "cell_type": "code",
   "execution_count": 17,
   "metadata": {},
   "outputs": [
    {
     "data": {
      "text/plain": [
       "False"
      ]
     },
     "execution_count": 17,
     "metadata": {},
     "output_type": "execute_result"
    }
   ],
   "source": [
    "27 > 27"
   ]
  },
  {
   "cell_type": "code",
   "execution_count": 18,
   "metadata": {},
   "outputs": [
    {
     "data": {
      "text/plain": [
       "False"
      ]
     },
     "execution_count": 18,
     "metadata": {},
     "output_type": "execute_result"
    }
   ],
   "source": [
    "# Equality is tested with ==\n",
    "8 == 9"
   ]
  },
  {
   "cell_type": "code",
   "execution_count": 19,
   "metadata": {},
   "outputs": [
    {
     "data": {
      "text/plain": [
       "True"
      ]
     },
     "execution_count": 19,
     "metadata": {},
     "output_type": "execute_result"
    }
   ],
   "source": [
    "# Strings compare by dictionary order, with < meaning earlier in dictionary\n",
    "\"aardvark\" < \"abalone\""
   ]
  },
  {
   "cell_type": "code",
   "execution_count": 20,
   "metadata": {},
   "outputs": [
    {
     "data": {
      "text/plain": [
       "False"
      ]
     },
     "execution_count": 20,
     "metadata": {},
     "output_type": "execute_result"
    }
   ],
   "source": [
    "\"skunk\" < \"shark\""
   ]
  },
  {
   "cell_type": "code",
   "execution_count": 21,
   "metadata": {},
   "outputs": [
    {
     "data": {
      "text/plain": [
       "True"
      ]
     },
     "execution_count": 21,
     "metadata": {},
     "output_type": "execute_result"
    }
   ],
   "source": [
    "# Capital letters come before lower case letters in this dictionary\n",
    "\"Zebra\" < \"airplane\""
   ]
  },
  {
   "cell_type": "markdown",
   "metadata": {},
   "source": [
    "## Numeric conversions"
   ]
  },
  {
   "cell_type": "code",
   "execution_count": 22,
   "metadata": {},
   "outputs": [
    {
     "data": {
      "text/plain": [
       "1500"
      ]
     },
     "execution_count": 22,
     "metadata": {},
     "output_type": "execute_result"
    }
   ],
   "source": [
    "# Convert a string to an integer\n",
    "int(\"1500\")"
   ]
  },
  {
   "cell_type": "code",
   "execution_count": 23,
   "metadata": {},
   "outputs": [
    {
     "data": {
      "text/plain": [
       "9"
      ]
     },
     "execution_count": 23,
     "metadata": {},
     "output_type": "execute_result"
    }
   ],
   "source": [
    "# Convert string to integer, using a base other than 10\n",
    "int(\"1001\",2) # base 2 = binary, so we get 0b1001 = 9"
   ]
  },
  {
   "cell_type": "markdown",
   "metadata": {},
   "source": [
    "## String conversions"
   ]
  },
  {
   "cell_type": "code",
   "execution_count": 24,
   "metadata": {},
   "outputs": [
    {
     "data": {
      "text/plain": [
       "'239.1'"
      ]
     },
     "execution_count": 24,
     "metadata": {},
     "output_type": "execute_result"
    }
   ],
   "source": [
    "# Convert anything to a string with str()\n",
    "# Not often needed.  But for example you could use this to \n",
    "# get the digits of an integer, since a string lets you\n",
    "# access individual characters\n",
    "str(239.1)"
   ]
  },
  {
   "cell_type": "code",
   "execution_count": 25,
   "metadata": {},
   "outputs": [
    {
     "data": {
      "text/plain": [
       "'False'"
      ]
     },
     "execution_count": 25,
     "metadata": {},
     "output_type": "execute_result"
    }
   ],
   "source": [
    "str(False)"
   ]
  },
  {
   "cell_type": "code",
   "execution_count": 26,
   "metadata": {},
   "outputs": [
    {
     "data": {
      "text/plain": [
       "'[2, 7, 5]'"
      ]
     },
     "execution_count": 26,
     "metadata": {},
     "output_type": "execute_result"
    }
   ],
   "source": [
    "str([2,7,5])  # Lists are formatted with spaces after the commas"
   ]
  },
  {
   "cell_type": "markdown",
   "metadata": {},
   "source": [
    "## Useful features of strings"
   ]
  },
  {
   "cell_type": "code",
   "execution_count": 27,
   "metadata": {},
   "outputs": [
    {
     "data": {
      "text/plain": [
       "'HELLO'"
      ]
     },
     "execution_count": 27,
     "metadata": {},
     "output_type": "execute_result"
    }
   ],
   "source": [
    "s = \"Hello\"\n",
    "# Convert to upper case (returns the converted value, doesn't change s)\n",
    "s.upper()"
   ]
  },
  {
   "cell_type": "code",
   "execution_count": 28,
   "metadata": {},
   "outputs": [
    {
     "data": {
      "text/plain": [
       "'hello'"
      ]
     },
     "execution_count": 28,
     "metadata": {},
     "output_type": "execute_result"
    }
   ],
   "source": [
    "# Convert to lower case\n",
    "s.lower()"
   ]
  },
  {
   "cell_type": "code",
   "execution_count": 29,
   "metadata": {},
   "outputs": [
    {
     "data": {
      "text/plain": [
       "True"
      ]
     },
     "execution_count": 29,
     "metadata": {},
     "output_type": "execute_result"
    }
   ],
   "source": [
    "# Test for prefix\n",
    "s.startswith(\"He\")"
   ]
  },
  {
   "cell_type": "code",
   "execution_count": 30,
   "metadata": {},
   "outputs": [
    {
     "data": {
      "text/plain": [
       "True"
      ]
     },
     "execution_count": 30,
     "metadata": {},
     "output_type": "execute_result"
    }
   ],
   "source": [
    "# Test for suffix\n",
    "s.endswith(\"llo\")"
   ]
  },
  {
   "cell_type": "code",
   "execution_count": 31,
   "metadata": {},
   "outputs": [
    {
     "data": {
      "text/plain": [
       "True"
      ]
     },
     "execution_count": 31,
     "metadata": {},
     "output_type": "execute_result"
    }
   ],
   "source": [
    "# \"string in string\" tests for the presence of a substring\n",
    "\"car\" in \"racecar\""
   ]
  },
  {
   "cell_type": "code",
   "execution_count": 32,
   "metadata": {},
   "outputs": [
    {
     "data": {
      "text/plain": [
       "False"
      ]
     },
     "execution_count": 32,
     "metadata": {},
     "output_type": "execute_result"
    }
   ],
   "source": [
    "\"aaa\" in \"banana\""
   ]
  },
  {
   "cell_type": "code",
   "execution_count": 33,
   "metadata": {},
   "outputs": [
    {
     "data": {
      "text/plain": [
       "'I wish I had a pet mouse so they could eat 16 seeds'"
      ]
     },
     "execution_count": 33,
     "metadata": {},
     "output_type": "execute_result"
    }
   ],
   "source": [
    "# String formatting: .format(value, value, ...) formats the values and puts them into the string where\n",
    "# there are placeholders\n",
    "\n",
    "# Basic usage\n",
    "\"I wish I had a pet {} so they could eat {} {}\".format(\"mouse\",16,\"seeds\")"
   ]
  },
  {
   "cell_type": "code",
   "execution_count": 34,
   "metadata": {},
   "outputs": [
    {
     "data": {
      "text/plain": [
       "'First you put on your socks, and THEN you put on your shoes'"
      ]
     },
     "execution_count": 34,
     "metadata": {},
     "output_type": "execute_result"
    }
   ],
   "source": [
    "# Placeholders can have numbers to indicate which of the arguments they should take\n",
    "\"First you put on your {1}, and THEN you put on your {0}\".format(\"shoes\",\"socks\")"
   ]
  },
  {
   "cell_type": "code",
   "execution_count": 35,
   "metadata": {},
   "outputs": [
    {
     "data": {
      "text/plain": [
       "'I am 75.12 percent sure of it'"
      ]
     },
     "execution_count": 35,
     "metadata": {},
     "output_type": "execute_result"
    }
   ],
   "source": [
    "# Floating point placeholders can have a formatting directive in the format :X.Yf\n",
    "# where X,Y are integers. The number will be formatted to have a width of at least X characters,\n",
    "# Y of them after the decimal point.  X is optional.\n",
    "\"I am {:3.2f} percent sure of it\".format(75.12345)"
   ]
  },
  {
   "cell_type": "code",
   "execution_count": 36,
   "metadata": {},
   "outputs": [
    {
     "data": {
      "text/plain": [
       "'Rounding to tenths we find that pi is approximately 3.1'"
      ]
     },
     "execution_count": 36,
     "metadata": {},
     "output_type": "execute_result"
    }
   ],
   "source": [
    "\"Rounding to tenths we find that pi is approximately {:.1f}\".format(3.14159265359)"
   ]
  },
  {
   "cell_type": "markdown",
   "metadata": {},
   "source": [
    "## Printing stuff"
   ]
  },
  {
   "cell_type": "code",
   "execution_count": 37,
   "metadata": {},
   "outputs": [
    {
     "name": "stdout",
     "output_type": "stream",
     "text": [
      "Hello world\n"
     ]
    }
   ],
   "source": [
    "# Display a message in the terminal\n",
    "print(\"Hello world\")\n",
    "# Note: This statement doesn't return a value!"
   ]
  },
  {
   "cell_type": "code",
   "execution_count": 38,
   "metadata": {},
   "outputs": [
    {
     "name": "stdout",
     "output_type": "stream",
     "text": [
      "What if I told you that MCS 275 was fun?\n",
      "Here is a list: [5, 4, 3, 1]\n"
     ]
    }
   ],
   "source": [
    "# Can print multiple values.  They'll be separated by spaces, by default\n",
    "print(\"What if I told you that MCS\",275,\"was fun?\")\n",
    "# print() can handle every built-in type\n",
    "print(\"Here is a list:\",[5,4,3,1])"
   ]
  },
  {
   "cell_type": "code",
   "execution_count": 39,
   "metadata": {},
   "outputs": [
    {
     "name": "stdout",
     "output_type": "stream",
     "text": [
      "banana\n"
     ]
    }
   ],
   "source": [
    "# print() puts a newline at the end by default\n",
    "# This can be disabled\n",
    "print(\"ba\",end=\"\")   # no newline after this one\n",
    "print(\"nana\")"
   ]
  },
  {
   "cell_type": "markdown",
   "metadata": {},
   "source": [
    "## List basics\n",
    "Lists are mutable ordered collections of elements accessible by integer index.  They are similar to arrays in other languages."
   ]
  },
  {
   "cell_type": "code",
   "execution_count": 40,
   "metadata": {},
   "outputs": [
    {
     "data": {
      "text/plain": [
       "[2, 7, 5]"
      ]
     },
     "execution_count": 40,
     "metadata": {},
     "output_type": "execute_result"
    }
   ],
   "source": [
    "# Lists are written with square brackets and commas\n",
    "[2,7,5]"
   ]
  },
  {
   "cell_type": "code",
   "execution_count": 41,
   "metadata": {},
   "outputs": [],
   "source": [
    "# Can have different types\n",
    "L = [ 1, \"fish\", 2, \"fish\", False, True, False, None, 5.25, \"last\"]"
   ]
  },
  {
   "cell_type": "code",
   "execution_count": 42,
   "metadata": {},
   "outputs": [
    {
     "data": {
      "text/plain": [
       "1"
      ]
     },
     "execution_count": 42,
     "metadata": {},
     "output_type": "execute_result"
    }
   ],
   "source": [
    "# Access elements of a list using brackets with 0-based index.\n",
    "L[0]"
   ]
  },
  {
   "cell_type": "code",
   "execution_count": 43,
   "metadata": {},
   "outputs": [
    {
     "data": {
      "text/plain": [
       "'fish'"
      ]
     },
     "execution_count": 43,
     "metadata": {},
     "output_type": "execute_result"
    }
   ],
   "source": [
    "L[3]"
   ]
  },
  {
   "cell_type": "code",
   "execution_count": 44,
   "metadata": {},
   "outputs": [
    {
     "data": {
      "text/plain": [
       "'last'"
      ]
     },
     "execution_count": 44,
     "metadata": {},
     "output_type": "execute_result"
    }
   ],
   "source": [
    "# Negative index means count from the end of the list, with -1 meaning last element\n",
    "L[-1]"
   ]
  },
  {
   "cell_type": "markdown",
   "metadata": {},
   "source": [
    "## List slices"
   ]
  },
  {
   "cell_type": "code",
   "execution_count": 45,
   "metadata": {},
   "outputs": [
    {
     "data": {
      "text/plain": [
       "[2, 'fish', False]"
      ]
     },
     "execution_count": 45,
     "metadata": {},
     "output_type": "execute_result"
    }
   ],
   "source": [
    "# Select a contiguous sublist using [start_idx:end_idx]\n",
    "# Includes the element at start_idx, but not end_idx\n",
    "# This is an example of a \"slice\"\n",
    "L[2:5]  # Has 5-2 = 3 elements"
   ]
  },
  {
   "cell_type": "code",
   "execution_count": 46,
   "metadata": {},
   "outputs": [
    {
     "data": {
      "text/plain": [
       "[True, False, None, 5.25, 'last']"
      ]
     },
     "execution_count": 46,
     "metadata": {},
     "output_type": "execute_result"
    }
   ],
   "source": [
    "# Slices that extend past the end of the list don't produce an error\n",
    "L[5:100000]  # Elements 5 to 99999 requested, but we get 5 to 9"
   ]
  },
  {
   "cell_type": "code",
   "execution_count": 47,
   "metadata": {},
   "outputs": [
    {
     "data": {
      "text/plain": [
       "[1, 'fish', 2]"
      ]
     },
     "execution_count": 47,
     "metadata": {},
     "output_type": "execute_result"
    }
   ],
   "source": [
    "# Slices start at the beginning if the start index is missing\n",
    "L[:3] # first three elements"
   ]
  },
  {
   "cell_type": "code",
   "execution_count": 48,
   "metadata": {},
   "outputs": [
    {
     "data": {
      "text/plain": [
       "['fish', False, True, False, None, 5.25, 'last']"
      ]
     },
     "execution_count": 48,
     "metadata": {},
     "output_type": "execute_result"
    }
   ],
   "source": [
    "# Slices end at the end if the end index is missing\n",
    "L[3:] # everything but the first three elements"
   ]
  },
  {
   "cell_type": "code",
   "execution_count": 49,
   "metadata": {},
   "outputs": [
    {
     "data": {
      "text/plain": [
       "[1, 2, False, False, 5.25]"
      ]
     },
     "execution_count": 49,
     "metadata": {},
     "output_type": "execute_result"
    }
   ],
   "source": [
    "# You can specify that a slice should use a step size other than 1\n",
    "L[::2]  # Every other element, starting at index 0"
   ]
  },
  {
   "cell_type": "code",
   "execution_count": 50,
   "metadata": {},
   "outputs": [
    {
     "data": {
      "text/plain": [
       "['fish', 'fish', True, None, 'last']"
      ]
     },
     "execution_count": 50,
     "metadata": {},
     "output_type": "execute_result"
    }
   ],
   "source": [
    "L[1::2]  # Every other element, starting at index 1"
   ]
  },
  {
   "cell_type": "markdown",
   "metadata": {},
   "source": [
    "## List conversion and membership testing"
   ]
  },
  {
   "cell_type": "code",
   "execution_count": 51,
   "metadata": {},
   "outputs": [
    {
     "data": {
      "text/plain": [
       "['a', 'b', 'c', 'd', 'e', 'f']"
      ]
     },
     "execution_count": 51,
     "metadata": {},
     "output_type": "execute_result"
    }
   ],
   "source": [
    "# Convert a string to a list to get a list of its characters\n",
    "list(\"abcdef\")"
   ]
  },
  {
   "cell_type": "code",
   "execution_count": 52,
   "metadata": {},
   "outputs": [
    {
     "data": {
      "text/plain": [
       "True"
      ]
     },
     "execution_count": 52,
     "metadata": {},
     "output_type": "execute_result"
    }
   ],
   "source": [
    "# Checking whether an item is an element of a list\n",
    "5.25 in L"
   ]
  },
  {
   "cell_type": "code",
   "execution_count": 53,
   "metadata": {},
   "outputs": [
    {
     "data": {
      "text/plain": [
       "True"
      ]
     },
     "execution_count": 53,
     "metadata": {},
     "output_type": "execute_result"
    }
   ],
   "source": [
    "2 in L"
   ]
  },
  {
   "cell_type": "code",
   "execution_count": 54,
   "metadata": {},
   "outputs": [
    {
     "data": {
      "text/plain": [
       "False"
      ]
     },
     "execution_count": 54,
     "metadata": {},
     "output_type": "execute_result"
    }
   ],
   "source": [
    "\"ball\" in L"
   ]
  },
  {
   "cell_type": "markdown",
   "metadata": {},
   "source": [
    "## Other useful list features"
   ]
  },
  {
   "cell_type": "code",
   "execution_count": 55,
   "metadata": {},
   "outputs": [],
   "source": [
    "courses_taken = [ 260, 275 ]\n",
    "# Add an element at the end with push\n",
    "courses_taken.append(320)\n",
    "# Note: It doesn't return anything, it just modifies the list"
   ]
  },
  {
   "cell_type": "code",
   "execution_count": 56,
   "metadata": {},
   "outputs": [
    {
     "data": {
      "text/plain": [
       "[260, 275, 320]"
      ]
     },
     "execution_count": 56,
     "metadata": {},
     "output_type": "execute_result"
    }
   ],
   "source": [
    "# What's in the list now?\n",
    "courses_taken"
   ]
  },
  {
   "cell_type": "code",
   "execution_count": 57,
   "metadata": {},
   "outputs": [],
   "source": [
    "# Change one element using item assignment\n",
    "courses_taken[0] = 261  # oops, change first element to 261"
   ]
  },
  {
   "cell_type": "code",
   "execution_count": 58,
   "metadata": {},
   "outputs": [
    {
     "data": {
      "text/plain": [
       "[261, 275, 320]"
      ]
     },
     "execution_count": 58,
     "metadata": {},
     "output_type": "execute_result"
    }
   ],
   "source": [
    "courses_taken"
   ]
  },
  {
   "cell_type": "code",
   "execution_count": 59,
   "metadata": {},
   "outputs": [
    {
     "data": {
      "text/plain": [
       "320"
      ]
     },
     "execution_count": 59,
     "metadata": {},
     "output_type": "execute_result"
    }
   ],
   "source": [
    "# Remove and return the last element of a lsit\n",
    "courses_taken.pop()"
   ]
  },
  {
   "cell_type": "code",
   "execution_count": 60,
   "metadata": {},
   "outputs": [
    {
     "data": {
      "text/plain": [
       "[261, 275]"
      ]
     },
     "execution_count": 60,
     "metadata": {},
     "output_type": "execute_result"
    }
   ],
   "source": [
    "# Notice the missing 320\n",
    "courses_taken"
   ]
  },
  {
   "cell_type": "code",
   "execution_count": 61,
   "metadata": {},
   "outputs": [
    {
     "data": {
      "text/plain": [
       "1"
      ]
     },
     "execution_count": 61,
     "metadata": {},
     "output_type": "execute_result"
    }
   ],
   "source": [
    "# Find an element, or raise an exception if it isn't there\n",
    "courses_taken.index(275)\n",
    "# Returns 1, meaning it was first found at index 1"
   ]
  },
  {
   "cell_type": "code",
   "execution_count": 62,
   "metadata": {},
   "outputs": [
    {
     "data": {
      "text/plain": [
       "[401, 261, 275]"
      ]
     },
     "execution_count": 62,
     "metadata": {},
     "output_type": "execute_result"
    }
   ],
   "source": [
    "# insert an element at a specific position\n",
    "# e.g. 0 = at the beginning, -1 = at the end\n",
    "courses_taken.insert(0,401)\n",
    "courses_taken"
   ]
  },
  {
   "cell_type": "code",
   "execution_count": 63,
   "metadata": {},
   "outputs": [],
   "source": [
    "# Sort a list in place\n",
    "courses_taken.sort() # note lack of any return value"
   ]
  },
  {
   "cell_type": "code",
   "execution_count": 64,
   "metadata": {},
   "outputs": [
    {
     "data": {
      "text/plain": [
       "[261, 275, 401]"
      ]
     },
     "execution_count": 64,
     "metadata": {},
     "output_type": "execute_result"
    }
   ],
   "source": [
    "# But after the previous command, the list is now sorted\n",
    "courses_taken"
   ]
  },
  {
   "cell_type": "markdown",
   "metadata": {},
   "source": [
    "## String indexing"
   ]
  },
  {
   "cell_type": "code",
   "execution_count": 65,
   "metadata": {},
   "outputs": [
    {
     "data": {
      "text/plain": [
       "'b'"
      ]
     },
     "execution_count": 65,
     "metadata": {},
     "output_type": "execute_result"
    }
   ],
   "source": [
    "# Strings also support integer indices and slices to get characters or substrings\n",
    "\"banana\"[0]"
   ]
  },
  {
   "cell_type": "code",
   "execution_count": 66,
   "metadata": {},
   "outputs": [
    {
     "data": {
      "text/plain": [
       "'na'"
      ]
     },
     "execution_count": 66,
     "metadata": {},
     "output_type": "execute_result"
    }
   ],
   "source": [
    "\"banana\"[2:4]"
   ]
  },
  {
   "cell_type": "code",
   "execution_count": 67,
   "metadata": {},
   "outputs": [
    {
     "data": {
      "text/plain": [
       "'aaa'"
      ]
     },
     "execution_count": 67,
     "metadata": {},
     "output_type": "execute_result"
    }
   ],
   "source": [
    "\"banana\"[1::2]  # every other letter "
   ]
  },
  {
   "cell_type": "code",
   "execution_count": 68,
   "metadata": {},
   "outputs": [
    {
     "data": {
      "text/plain": [
       "'ananab'"
      ]
     },
     "execution_count": 68,
     "metadata": {},
     "output_type": "execute_result"
    }
   ],
   "source": [
    "# Reverse a string\n",
    "\"banana\"[::-1]"
   ]
  },
  {
   "cell_type": "markdown",
   "metadata": {},
   "source": [
    "## Dictionaries\n",
    "Map keys to values.  Keys can be of various types (but some restrictions, e.g. lists cannot be keys).  Values can be arbitrary types.  Written with {} and : to separate key from value."
   ]
  },
  {
   "cell_type": "code",
   "execution_count": 69,
   "metadata": {},
   "outputs": [],
   "source": [
    "# Create a dictionary and bind the name \"d\" to it\n",
    "d = { \"department\": \"MSCS\", \"building\": 631, \"phd_granting\": True}"
   ]
  },
  {
   "cell_type": "code",
   "execution_count": 70,
   "metadata": {},
   "outputs": [
    {
     "data": {
      "text/plain": [
       "'MSCS'"
      ]
     },
     "execution_count": 70,
     "metadata": {},
     "output_type": "execute_result"
    }
   ],
   "source": [
    "# Access the value associated with a key\n",
    "d[\"department\"]"
   ]
  },
  {
   "cell_type": "code",
   "execution_count": 71,
   "metadata": {},
   "outputs": [],
   "source": [
    "# Add a new key-value pair to the dictionary\n",
    "d[\"college\"] = \"LAS\""
   ]
  },
  {
   "cell_type": "code",
   "execution_count": 72,
   "metadata": {},
   "outputs": [
    {
     "data": {
      "text/plain": [
       "True"
      ]
     },
     "execution_count": 72,
     "metadata": {},
     "output_type": "execute_result"
    }
   ],
   "source": [
    "# Test if a KEY is present\n",
    "\"building\" in d"
   ]
  },
  {
   "cell_type": "markdown",
   "metadata": {},
   "source": [
    "## Conditionals (if-else-elif)"
   ]
  },
  {
   "cell_type": "code",
   "execution_count": 73,
   "metadata": {},
   "outputs": [
    {
     "name": "stdout",
     "output_type": "stream",
     "text": [
      "7 is larger\n"
     ]
    }
   ],
   "source": [
    "if 5 > 7:\n",
    "    print(\"5 is larger\")\n",
    "else:\n",
    "    print(\"7 is larger\")"
   ]
  },
  {
   "cell_type": "code",
   "execution_count": 74,
   "metadata": {},
   "outputs": [
    {
     "name": "stdout",
     "output_type": "stream",
     "text": [
      "15 is divixible by 3, but is NOT divisible by 6\n"
     ]
    }
   ],
   "source": [
    "x = 15\n",
    "if x % 6 == 0: \n",
    "    print(x,\"is divisible by 6\")\n",
    "elif x % 3 == 0:\n",
    "    print(x,\"is divixible by 3, but is NOT divisible by 6\")\n",
    "else:\n",
    "    print(x,\"is not divisible by 3 (and so not by 6 either)\")"
   ]
  },
  {
   "cell_type": "code",
   "execution_count": 75,
   "metadata": {},
   "outputs": [
    {
     "name": "stdout",
     "output_type": "stream",
     "text": [
      "carpeting contains pet as a substring\n",
      "In fact, it appears at index 3\n"
     ]
    }
   ],
   "source": [
    "s = \"carpeting\"\n",
    "if \"pet\" in s:\n",
    "    print(s,\"contains pet as a substring\")\n",
    "    print(\"In fact, it appears at index\",s.find(\"pet\"))"
   ]
  },
  {
   "cell_type": "markdown",
   "metadata": {},
   "source": [
    "## Loops"
   ]
  },
  {
   "cell_type": "code",
   "execution_count": 76,
   "metadata": {},
   "outputs": [
    {
     "name": "stdout",
     "output_type": "stream",
     "text": [
      "Found it: The number 2**15 = 32768 has 7 as a digit\n"
     ]
    }
   ],
   "source": [
    "# Find a power of 2 that has 7 as a digit\n",
    "n = 1\n",
    "while \"7\" not in str(2**n):\n",
    "    n = n + 1\n",
    "print(\"Found it: The number 2**{} = {} has 7 as a digit\".format(n,2**n))"
   ]
  },
  {
   "cell_type": "code",
   "execution_count": 77,
   "metadata": {},
   "outputs": [
    {
     "name": "stdout",
     "output_type": "stream",
     "text": [
      "Available drink: coffee\n",
      "Available drink: tea\n",
      "Available drink: juice\n"
     ]
    }
   ],
   "source": [
    "# Take each element of a list and print it\n",
    "available_drinks = [\"coffee\",\"tea\",\"juice\"]\n",
    "for drink in available_drinks:\n",
    "    print(\"Available drink:\",drink)"
   ]
  },
  {
   "cell_type": "code",
   "execution_count": 78,
   "metadata": {},
   "outputs": [
    {
     "name": "stdout",
     "output_type": "stream",
     "text": [
      "department = MSCS\n",
      "building = 631\n",
      "phd_granting = True\n"
     ]
    }
   ],
   "source": [
    "# Take each key of a dictionary and do something with it\n",
    "dept_data = { \"department\": \"MSCS\", \"building\": 631, \"phd_granting\": True}\n",
    "for field in dept_data:\n",
    "    print(\"{} = {}\".format(field,dept_data[field]))"
   ]
  },
  {
   "cell_type": "code",
   "execution_count": 79,
   "metadata": {},
   "outputs": [
    {
     "name": "stdout",
     "output_type": "stream",
     "text": [
      "department = MSCS\n",
      "building = 631\n",
      "phd_granting = True\n"
     ]
    }
   ],
   "source": [
    "# Dictionaries support retrieving key,value pairs\n",
    "# which can be unpacked into two variables in a loop\n",
    "for field,value in dept_data.items():\n",
    "    print(\"{} = {}\".format(field,value))"
   ]
  },
  {
   "cell_type": "code",
   "execution_count": 80,
   "metadata": {},
   "outputs": [
    {
     "name": "stdout",
     "output_type": "stream",
     "text": [
      "1\n",
      "2\n",
      "4\n",
      "8\n",
      "16\n",
      "32\n",
      "64\n",
      "128\n"
     ]
    }
   ],
   "source": [
    "# Break out of a loop early with `break`\n",
    "L = [ 1, 2, 4, 8, 16, 32, 64, 128, 256, 512 ]\n",
    "for x in L:\n",
    "    if \"5\" in str(x):\n",
    "        # if we hit an integer containing digit 5, we stop the loop\n",
    "        break\n",
    "    print(x)"
   ]
  },
  {
   "cell_type": "markdown",
   "metadata": {},
   "source": [
    "## Files\n",
    "Be careful: It's dangerous to run file-related commands, because they can delete or overwrite existing files."
   ]
  },
  {
   "cell_type": "code",
   "execution_count": 81,
   "metadata": {},
   "outputs": [],
   "source": [
    "# Open a new file (delete if it exists already) for writing\n",
    "output_file = open(\"output.txt\",\"wt\") # wt = write, text (not binary) file\n",
    "# Write some text to it.  Note need to add our own newlines.\n",
    "output_file.write(\"Hello.\\n\")\n",
    "output_file.write(\"This is a text file.\\n\")\n",
    "output_file.write(\"That is all.\\n\")\n",
    "# Close the file (writes may not actually happen until now)\n",
    "output_file.close()"
   ]
  },
  {
   "cell_type": "code",
   "execution_count": 82,
   "metadata": {},
   "outputs": [
    {
     "name": "stdout",
     "output_type": "stream",
     "text": [
      "Hello.\n",
      "This is a text file.\n",
      "That is all.\n",
      "\n"
     ]
    }
   ],
   "source": [
    "# Open the file created above, for reading\n",
    "input_file = open(\"output.txt\",\"rt\")\n",
    "# Get everything in the file as a single string\n",
    "s = input_file.read()\n",
    "input_file.close()\n",
    "\n",
    "# Now print what we read from the file\n",
    "print(s)"
   ]
  },
  {
   "cell_type": "code",
   "execution_count": 83,
   "metadata": {},
   "outputs": [
    {
     "name": "stdout",
     "output_type": "stream",
     "text": [
      "I just read one more line from the file.  The contents are:\n",
      "Hello.\n",
      "This line of the file has 7 characters\n",
      "\n",
      "I just read one more line from the file.  The contents are:\n",
      "This is a text file.\n",
      "This line of the file has 21 characters\n",
      "\n",
      "I just read one more line from the file.  The contents are:\n",
      "That is all.\n",
      "This line of the file has 13 characters\n",
      "\n"
     ]
    }
   ],
   "source": [
    "# Process lines of that file one by one\n",
    "input_file = open(\"output.txt\",\"rt\")\n",
    "\n",
    "for line in input_file:\n",
    "    print(\"I just read one more line from the file.  The contents are:\")\n",
    "    print(line,end=\"\")  # line will already have a newline, most likely\n",
    "    print(\"This line of the file has {} characters\\n\".format(len(line)))\n",
    "\n",
    "input_file.close()"
   ]
  },
  {
   "cell_type": "code",
   "execution_count": 84,
   "metadata": {},
   "outputs": [
    {
     "name": "stdout",
     "output_type": "stream",
     "text": [
      "The first time I read from the file I got:\n",
      "Hello.\n",
      "This is a text file.\n",
      "That is all.\n",
      "\n",
      "----------------------------------------------------------------------\n",
      "The second time I read from the file I got:\n",
      "\n"
     ]
    }
   ],
   "source": [
    "# Reading is a one-time operation.  Trying to read file contents twice\n",
    "# gives no data the second time.\n",
    "input_file = open(\"output.txt\",\"rt\")\n",
    "s1 = input_file.read()  # Read everything, after which we're at the end of the file\n",
    "s2 = input_file.read()  # Reads nothing, already at the end of the file\n",
    "input_file.close()\n",
    "\n",
    "print(\"The first time I read from the file I got:\")\n",
    "print(s1)\n",
    "print(\"-\"*70)\n",
    "print(\"The second time I read from the file I got:\")\n",
    "print(s2)  # will print nothing, because we read nothing"
   ]
  }
 ],
 "metadata": {
  "kernelspec": {
   "display_name": "Python 3",
   "language": "python",
   "name": "python3"
  },
  "language_info": {
   "codemirror_mode": {
    "name": "ipython",
    "version": 3
   },
   "file_extension": ".py",
   "mimetype": "text/x-python",
   "name": "python",
   "nbconvert_exporter": "python",
   "pygments_lexer": "ipython3",
   "version": "3.8.5"
  }
 },
 "nbformat": 4,
 "nbformat_minor": 4
}
